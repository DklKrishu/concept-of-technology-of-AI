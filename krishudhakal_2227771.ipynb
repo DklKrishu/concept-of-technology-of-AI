{
  "cells": [
    {
      "cell_type": "markdown",
      "metadata": {
        "id": "P0N8p6iiiuBy"
      },
      "source": [
        "\n",
        "Assignment-I: Statistical Interpretation and Data Visualization."
      ]
    },
    {
      "cell_type": "markdown",
      "metadata": {
        "id": "RzxRftuejYvB"
      },
      "source": [
        "Siman Giri, Anmol Adhikari"
      ]
    },
    {
      "cell_type": "markdown",
      "metadata": {
        "id": "sNx2vZMxjsCl"
      },
      "source": [
        "December 2022\n",
        "\n",
        "\n",
        "---\n",
        "\n"
      ]
    },
    {
      "cell_type": "markdown",
      "metadata": {
        "id": "_jDcu3YHD8Tc"
      },
      "source": [
        "1 Assignment Details\n",
        "Due Marks Submission\n",
        "December-20, 15:00 NST. 10 Rendered .ipynb file//see\n",
        "details **below**"
      ]
    },
    {
      "cell_type": "markdown",
      "metadata": {
        "id": "NWeVC6COEAfb"
      },
      "source": [
        "2 Assignment Overview\n",
        "In this assignment, you will implement what you have learned till now. The datasets have been provided to you\n",
        "in the google classroom to complete your (Statistical Data Analysis and Data Visualization) task and follow\n",
        "the instructions.\n",
        "It is primarily an exercise in applying programming knowledge and skills to data analysis, demonstrating your\n",
        "skills for problem-solving and critical thinking.\n",
        "Please note that plagiarism is a serious academic offense, for which penalties are severe.\n",
        "All suspected cases of plagiarism will be reported."
      ]
    },
    {
      "cell_type": "markdown",
      "metadata": {
        "id": "FS1VWALwDrYe"
      },
      "source": [
        "3 Submission Guidelines\n",
        "The final date for submission is 20-December-2022 and 15:00 PM-NST. .\n",
        "\n",
        "3.1 Naming Conventions:\n",
        "You are supposed to follow naming conventions strictly any file not following the naming conventions will be\n",
        "marked”0”.\n",
        "File Name: WLVIDFullName(firstname+last).ipynb\n",
        "Example: 00000ABC Sharma.ipynb\n",
        "3.2 How to submit:\n",
        "You are expected to submit completely rendered .ipynb file named after following naming convention.\n",
        "3.3 Where to submit:\n",
        "Designated Portal opened at Google Classroom, where you are supposed to upload the rendered.ipynb,\n",
        "correctly named before the deadline.\n",
        "No Late submission allowed.\n",
        "\n",
        "3.4 After Submission\n",
        "After the submission you are expected to give small viva based on the work you submitted.\n",
        "Please Note: No marking without Viva.\n",
        "Consult with your respected tutor for your viva schedule. ."
      ]
    },
    {
      "cell_type": "markdown",
      "metadata": {
        "id": "XYNpDosWEHtY"
      },
      "source": [
        "\n",
        "4 Learning Outcomes\n",
        "Learning outcomes can be following but not limited to:\n",
        "1. Use Pandas as the primary tool to process structured data in Python with CSV files,\n",
        "2. Use matplotlib and seaborn library to produce various plots for visualization,\n",
        "3. Extract various information from a given dataset using statistical and visualizing techniques.\n",
        "5 Dataset Description\n",
        "The data given here in the assignment is of student achievements in secondary education of two Portuguese\n",
        "schools namely “Gabriel Pereira” and “Mousinho da Silveira”. The dataset’s attributes include student grades\n",
        "in demographic, social, and mathematics and many other school-related features, and all the information was\n",
        "collected by using the school reports and questionnaire. The data description of the data file is provided below:\n",
        "Filename: ”performance.csv”\n",
        "available for download from google classroom.\n",
        "The data set contains 395 student records. Each record consists of 33 variables, which include information\n",
        "about the students. Variable 33, G3 – final grade (numeric: 0 – 20), is the target variable)"
      ]
    },
    {
      "cell_type": "code",
      "execution_count": 2,
      "metadata": {
        "id": "kBkuhF50D4lZ"
      },
      "outputs": [
        {
          "ename": "ModuleNotFoundError",
          "evalue": "No module named 'google.colab'",
          "output_type": "error",
          "traceback": [
            "\u001b[1;31m---------------------------------------------------------------------------\u001b[0m",
            "\u001b[1;31mModuleNotFoundError\u001b[0m                       Traceback (most recent call last)",
            "\u001b[1;32mc:\\Users\\HP\\Downloads\\2228055PrabinKandel.ipynb Cell 8\u001b[0m in \u001b[0;36m<cell line: 1>\u001b[1;34m()\u001b[0m\n\u001b[1;32m----> <a href='vscode-notebook-cell:/c%3A/Users/HP/Downloads/2228055PrabinKandel.ipynb#X10sZmlsZQ%3D%3D?line=0'>1</a>\u001b[0m \u001b[39mfrom\u001b[39;00m \u001b[39mgoogle\u001b[39;00m\u001b[39m.\u001b[39;00m\u001b[39mcolab\u001b[39;00m \u001b[39mimport\u001b[39;00m drive\n\u001b[0;32m      <a href='vscode-notebook-cell:/c%3A/Users/HP/Downloads/2228055PrabinKandel.ipynb#X10sZmlsZQ%3D%3D?line=1'>2</a>\u001b[0m drive\u001b[39m.\u001b[39mmount(\u001b[39m'\u001b[39m\u001b[39m/content/drive\u001b[39m\u001b[39m'\u001b[39m)\n",
            "\u001b[1;31mModuleNotFoundError\u001b[0m: No module named 'google.colab'"
          ]
        }
      ],
      "source": [
        "from google.colab import drive\n",
        "drive.mount('/content/drive')"
      ]
    },
    {
      "cell_type": "markdown",
      "metadata": {
        "id": "-Re9Crtn_3ES"
      },
      "source": [
        "6 Tasks and Marks Division"
      ]
    },
    {
      "cell_type": "markdown",
      "metadata": {
        "id": "cIBMaFOn_6KA"
      },
      "source": [
        "6.1 Data Understanding and Cleaning: [1]"
      ]
    },
    {
      "cell_type": "markdown",
      "metadata": {
        "id": "zRJYqHLN_8G0"
      },
      "source": [
        "1. Use pandas to upload your data."
      ]
    },
    {
      "cell_type": "code",
      "execution_count": null,
      "metadata": {
        "id": "vEc0XPY8krr-"
      },
      "outputs": [],
      "source": [
        "import pandas as pd\n",
        "\n",
        "df = pd.read_csv('/content/drive/MyDrive/performance.csv')\n",
        "df"
      ]
    },
    {
      "cell_type": "markdown",
      "metadata": {
        "id": "fYUx4RGsAA93"
      },
      "source": [
        "2. Once you make your initial observation, please explain why do you think the data was collected, what\n",
        "kind of information you can extract from the dataset. Please write your answer in text cell of the Jupyter\n",
        "Notebook."
      ]
    },
    {
      "cell_type": "code",
      "execution_count": null,
      "metadata": {
        "id": "o4ReP_lxAaaa"
      },
      "outputs": [],
      "source": [
        "df.head()"
      ]
    },
    {
      "attachments": {},
      "cell_type": "markdown",
      "metadata": {
        "id": "4KQtLpEqACmj"
      },
      "source": [
        "By analyzing this information, we may conclude that it was taken from two Portuguese schools in order to compare and contrast the data acquired.\n",
        "Data is collected to identify the variables that influence one another using various statistical techniques."
      ]
    },
    {
      "cell_type": "markdown",
      "metadata": {
        "id": "sGk6AcxsDCvJ"
      },
      "source": [
        "3. Check for null values and datatypes for all the columns present in the dataset."
      ]
    },
    {
      "cell_type": "code",
      "execution_count": null,
      "metadata": {
        "id": "bdQaUlTYlfP6"
      },
      "outputs": [],
      "source": [
        "df.isnull().sum()"
      ]
    },
    {
      "cell_type": "code",
      "execution_count": null,
      "metadata": {
        "id": "9NIpCikXli_7"
      },
      "outputs": [],
      "source": [
        "df.dtypes"
      ]
    },
    {
      "cell_type": "markdown",
      "metadata": {
        "id": "NWgzQ7owDGpy"
      },
      "source": [
        "6.2 Data Transformation: [4]\n",
        "Write code to transform variables according to the following instructions:"
      ]
    },
    {
      "cell_type": "markdown",
      "metadata": {
        "id": "PHqeUEGiDHxd"
      },
      "source": [
        "1. ”School”, ”sex”, ”address”, ”schoolsup”, ”famsup”, ”activites”, ”nursery”, ”internet”, and ”romantic”\n",
        "into binary: 0 or 1 (create new columns without overwriting the existing ones)."
      ]
    },
    {
      "cell_type": "code",
      "execution_count": null,
      "metadata": {
        "id": "DMd0H2nf3P37"
      },
      "outputs": [],
      "source": [
        "# Create a list of columns to 0 and 1\n",
        "columns = [\"school\", \"sex\", \"address\", \"schoolsup\", \"famsup\", \"activities\", \"nursery\", \"internet\", \"romantic\"]\n",
        "\n",
        "# Loop through each column and convert it to 0 and 1\n",
        "for col in columns:\n",
        "    # Get the unique values for the column\n",
        "    unique_values = df[col].unique()\n",
        "    \n",
        "    # Loop through each unique value and create a new column for it\n",
        "    for value in unique_values:\n",
        "        new_col_name = f\"{col}_{value}\"\n",
        "        df[new_col_name] = (df[col] == value).astype(int)\n",
        "df"
      ]
    },
    {
      "cell_type": "markdown",
      "metadata": {
        "id": "4zvT5QMQDNSS"
      },
      "source": [
        "2. ”Medu”, ”Fedu”, ”reason”, ”guardian”, ”studytime”, ”freetime”, and ”health” into ordinal numbers based\n",
        "on the number cases in the data set (create news columns without overwriting the existing ones)."
      ]
    },
    {
      "cell_type": "code",
      "execution_count": null,
      "metadata": {
        "id": "t-hU38oL3fSI"
      },
      "outputs": [],
      "source": [
        "# Create a list of columns to change to ordinal\n",
        "columns = [\"Medu\", \"Fedu\", \"reason\", \"guardian\", \"studytime\", \"freetime\", \"health\"]\n",
        "\n",
        "# Loop through column and change it to ordinal\n",
        "for col in columns:\n",
        "    # Get the counts of each unique value in the column\n",
        "    value_counts = df[col].value_counts()\n",
        "    \n",
        "    # give a numerical value to each unique value based on its frequency\n",
        "    value_map = {value: i+1 for i, value in enumerate(value_counts.index)}\n",
        "    \n",
        "    # new column for the ordinal values\n",
        "    new_col_name = f\"{col}_ordinal\"\n",
        "    df[new_col_name] = df[col].map(value_map)\n",
        "df"
      ]
    },
    {
      "cell_type": "markdown",
      "metadata": {
        "id": "4_2xDtWzDQLx"
      },
      "source": [
        "3. Convert column ”age” to interval datatype. i.e. Create a new column name category age whose values\n",
        "should be based on the frequency in the column ”age”, You can create categorical data with following\n",
        "interval.\n",
        "(a) interval1: [15-17]\n",
        "(b) interval2: [18-20]\n",
        "(c) interval3: [21-all]"
      ]
    },
    {
      "cell_type": "code",
      "execution_count": null,
      "metadata": {
        "id": "Z5DSOhqB4AZs"
      },
      "outputs": [],
      "source": [
        "# Create a new column for the interval values\n",
        "df[\"category_age\"] = \"\"\n",
        "\n",
        "# Give a value to each row based on the value in the \"age\" column\n",
        "df.loc[(df[\"age\"] <= 17) & (df[\"age\"] >=15), \"category_age\"] = \"[15-17]\"\n",
        "df.loc[(df[\"age\"] > 17) & (df[\"age\"] <= 20), \"category_age\"] = \"[17-20]\"\n",
        "df.loc[df[\"age\"] > 20, \"category_age\"] = \"[20-all]\"\n",
        "df"
      ]
    },
    {
      "cell_type": "markdown",
      "metadata": {
        "id": "StJKYIxDDU4P"
      },
      "source": [
        "4. Create a new column name passed (yes or no) whose values should be based on the values present in the\n",
        "G3 column (>= 8–yes, < −no)."
      ]
    },
    {
      "cell_type": "code",
      "execution_count": null,
      "metadata": {
        "id": "kK4mC2C65-lq"
      },
      "outputs": [],
      "source": [
        "# Create a new column for the passed values\n",
        "df[\"passed\"] = \"\"\n",
        "\n",
        "# Assign a value to each row based on the value in the \"G3\" column\n",
        "df.loc[df[\"G3\"] >= 8, \"passed\"] = \"yes\"\n",
        "df.loc[df[\"G3\"] < 8, \"passed\"] = \"no\"\n",
        "\n",
        "df"
      ]
    },
    {
      "cell_type": "markdown",
      "metadata": {
        "id": "WxVnQuCQDX6L"
      },
      "source": [
        "6.3 Descriptive Analysis: [1]\n",
        "Write a code to show the summary statistic (sum, mean, median, standard deviation, max, and min) of the\n",
        "variables age, absences, G1, G2, and G3)."
      ]
    },
    {
      "cell_type": "code",
      "execution_count": null,
      "metadata": {
        "id": "eg1ZfFr56Yyg"
      },
      "outputs": [],
      "source": [
        "# Select the columns to include in the summary statistics\n",
        "columns = [\"age\", \"absences\", \"G1\", \"G2\", \"G3\"]\n",
        "\n",
        "# Display the summary statistics for each column\n",
        "for col in columns:\n",
        "    print(f\"{col}:\")\n",
        "    print(f\"  sum: {df[col].sum()}\")\n",
        "    print(f\"  mean: {df[col].mean()}\")\n",
        "    print(f\"  median: {df[col].median()}\")\n",
        "    print(f\"  standard deviation: {df[col].std()}\")\n",
        "    print(f\"  max: {df[col].max()}\")\n",
        "    print(f\"  min: {df[col].min()}\")"
      ]
    },
    {
      "cell_type": "markdown",
      "metadata": {
        "id": "bMsSBlCFDaow"
      },
      "source": [
        "6.4 Data Exploration and Visualization: [4]"
      ]
    },
    {
      "cell_type": "markdown",
      "metadata": {
        "id": "EoofUZsNDddn"
      },
      "source": [
        "1. Write a code to show histogram plots and boxplots to visualize the distribution of the variables\n",
        "”age”, ”absence”, and ”G3”. Interpret the results and comment on the distribution of each variable.\n",
        "Write your answer in text cell of jupyter notebook."
      ]
    },
    {
      "cell_type": "code",
      "execution_count": null,
      "metadata": {
        "id": "lXA2tSje7CuF"
      },
      "outputs": [],
      "source": [
        "import matplotlib.pyplot as plt\n",
        "\n",
        "# Select the columns to include in the plots\n",
        "columns = [\"age\", \"absences\", \"G3\"]\n",
        "\n",
        "# Loop through each column and create a histogram plot\n",
        "for col in columns:\n",
        "    plt.hist(df[col])\n",
        "    plt.title(f\"Histogram of {col}\")\n",
        "    plt.xlabel(col)\n",
        "    plt.ylabel(\"Frequency\")\n",
        "    plt.show()\n",
        "\n",
        "# Loop through each column and create a boxplot\n",
        "for col in columns:\n",
        "    plt.boxplot(df[col])\n",
        "    plt.title(f\"Boxplot of {col}\")\n",
        "    plt.ylabel(col)\n",
        "    plt.show()"
      ]
    },
    {
      "cell_type": "markdown",
      "metadata": {
        "id": "z3LYgYZfDf47"
      },
      "source": [
        "2. Write a code to show a bar graph of the total number of students who passed the final term grouped\n",
        "according to the school that they belong to. Use proper labels in the graph and interpret the results."
      ]
    },
    {
      "cell_type": "code",
      "execution_count": null,
      "metadata": {
        "id": "0-HxDVcQ7dRm"
      },
      "outputs": [],
      "source": [
        "# Create a new column showing whether the student passed or failed\n",
        "df[\"passed\"] = df[\"G3\"] >= 8\n",
        "\n",
        "# Group the data by school and count the number of students who passed\n",
        "passed_counts = df.groupby(\"school\")[\"passed\"].sum()\n",
        "\n",
        "# Plot the counts as a bar graph\n",
        "passed_counts.plot(kind=\"bar\")\n",
        "\n",
        "# Add labels to the graph\n",
        "plt.title(\"Number of Students Who Passed by School\")\n",
        "plt.xlabel(\"School\")\n",
        "plt.ylabel(\"Number of Students Who Passed\")\n",
        "plt.show()"
      ]
    },
    {
      "cell_type": "markdown",
      "metadata": {
        "id": "AJo8Ln8pDib-"
      },
      "source": [
        "3. Write a code to show a pie chart of analysis of students’ grades as per their school. Use proper labels\n",
        "in the graph and interpret the results."
      ]
    },
    {
      "cell_type": "code",
      "execution_count": null,
      "metadata": {
        "id": "wsGCr1Uw790D"
      },
      "outputs": [],
      "source": [
        "# Group the data by school and calculate the mean grade for each school\n",
        "grade_means = df.groupby(\"school\")[\"G3\"].mean()\n",
        "\n",
        "# Plot the mean grades as a pie chart\n",
        "grade_means.plot(kind=\"pie\", labels=grade_means.index, autopct='%1.1f%%')\n",
        "\n",
        "# Add a title to the chart\n",
        "plt.title(\"Analysis of Students' Grades by School\")\n",
        "\n",
        "# Show the plot\n",
        "plt.show()"
      ]
    },
    {
      "cell_type": "markdown",
      "metadata": {
        "id": "orAA8OYoDlMT"
      },
      "source": [
        "4. Write a code to show a bar graph with the relation of the father’s occupation with the grade of the\n",
        "student. Use proper labels in the graph and interpret the results."
      ]
    },
    {
      "cell_type": "code",
      "execution_count": null,
      "metadata": {
        "id": "cNahB3j28PAI"
      },
      "outputs": [],
      "source": [
        "import matplotlib.pyplot as plt\n",
        "\n",
        "# Group the data by father's occupation and calculate the mean grade for each occupation\n",
        "grade_means = df.groupby(\"Fjob\")[\"G3\"].mean()\n",
        "\n",
        "# Plot the mean grades as a bar graph\n",
        "grade_means.plot(kind=\"bar\")\n",
        "\n",
        "# Add labels to the graph\n",
        "plt.title(\"Relation of Father's Occupation with Grade\")\n",
        "plt.xlabel(\"Father's Occupation\")\n",
        "plt.ylabel(\"Mean Grade\")\n",
        "plt.show()"
      ]
    }
  ],
  "metadata": {
    "colab": {
      "provenance": [],
      "toc_visible": true
    },
    "kernelspec": {
      "display_name": "base",
      "language": "python",
      "name": "python3"
    },
    "language_info": {
      "codemirror_mode": {
        "name": "ipython",
        "version": 3
      },
      "file_extension": ".py",
      "mimetype": "text/x-python",
      "name": "python",
      "nbconvert_exporter": "python",
      "pygments_lexer": "ipython3",
      "version": "3.9.12"
    },
    "vscode": {
      "interpreter": {
        "hash": "b1e6b76b6e736d29445d5c5f779c1dafb0f59893c5766b7198bc0a87a8e7acf4"
      }
    }
  },
  "nbformat": 4,
  "nbformat_minor": 0
}
