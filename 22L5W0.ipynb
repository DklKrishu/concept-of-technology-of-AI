{
  "cells": [
    {
      "cell_type": "markdown",
      "metadata": {
        "id": "x3mK9x83viIh"
      },
      "source": [
        "# Week-1-Workshops\n",
        "## Instructions and Requirements:\n",
        "This workshops is | divided into two different notebooks:\n",
        "  *    22L5W0: Revision of some basic concepts in python programming language. (Prerequisites)\n",
        "  *    22L5W1: Descriptive Statisitics-Numerical Approach\n",
        "      *   Measurement of Central Tendency\n",
        "        *   Mean, Median, Mode\n",
        "      *   Measurement of Dispersion\n",
        "        *   Variance and standard Deviation\n",
        "  ## Requirements:\n",
        "    *   Notebook Environment(Jupyter or Google Colab)\n",
        "\n",
        "*   Author: Siman Giri\n"
      ]
    },
    {
      "cell_type": "markdown",
      "metadata": {
        "id": "4-KGvqx6B26z"
      },
      "source": [
        "# Section-1: python basics"
      ]
    },
    {
      "cell_type": "markdown",
      "metadata": {
        "id": "2VZo7I-QCK5i"
      },
      "source": [
        "### Arithematic Operations in Python:\n",
        "Python supports the usual arithmetic operators: + (addition), * (multiplication), / (division), ** (power), // (integer division).\n",
        "\n",
        "Questions:\n",
        "\n",
        "1) Define and store a number/integer in a variable x.\n",
        "\n",
        "2) Print the type of variable x.\n",
        "\n",
        "3) Add 2 to given variable x.\n",
        "\n",
        "4) Subtract 3 from varaible x.\n",
        "\n",
        "5) Multiply the variable x with 2.\n",
        "\n",
        "6) Find the power 2 or exponenetial of the varaible x.\n"
      ]
    },
    {
      "cell_type": "code",
      "execution_count": 1,
      "metadata": {
        "id": "y3MQSYjrB-ML"
      },
      "outputs": [
        {
          "name": "stdout",
          "output_type": "stream",
          "text": [
            "10\n",
            "324\n"
          ]
        }
      ],
      "source": [
        "# Your solutions here:\n",
        "x = 10 \n",
        "print(x)\n",
        "x += 2\n",
        "x -= 3\n",
        "x *=2\n",
        "\n",
        "print(x**2)\n",
        "\n"
      ]
    },
    {
      "cell_type": "markdown",
      "metadata": {
        "id": "Na5fLImHDNdF"
      },
      "source": [
        "###Strings in Python:\n",
        "Questions:\n",
        "\n",
        "1) Define a strings \" hello\"  and store in the variable.\n",
        "\n",
        "2) Concatenate the strings \"world\" with above strings and store it in the new variable.\n",
        "\n",
        "3) Convert the strings\"hello\" in capital or convert it into uppercase.\n",
        "\n",
        "4) Right justify a string, \"hello\" i.e. add a spce in the right of the string.\n",
        "\n",
        "5) Replace the letter \"e\" from the string \"hello\" with \"a\".\n"
      ]
    },
    {
      "cell_type": "code",
      "execution_count": 3,
      "metadata": {
        "id": "J4hjv-p1Dd9J"
      },
      "outputs": [
        {
          "name": "stdout",
          "output_type": "stream",
          "text": [
            "HELLO\n",
            "hallo\n"
          ]
        }
      ],
      "source": [
        "# Your solutions here:\n",
        "name = \"hello\"\n",
        "name1 = name + \"world\"\n",
        "name2 = name+ \" \" + \"world\"\n",
        "print(name.upper())\n",
        "print(name. replace(\"e\", \"a\"))"
      ]
    },
    {
      "cell_type": "markdown",
      "metadata": {
        "id": "p9Tqpo1_DsKu"
      },
      "source": [
        "## Some basic data structure in Pyhon:\n"
      ]
    },
    {
      "cell_type": "markdown",
      "metadata": {
        "id": "dMy088a_ELNV"
      },
      "source": [
        "### Lists:\n",
        "A list is the python equvalent of an array, but is resizeanle and can contain elemements of different types:"
      ]
    },
    {
      "cell_type": "code",
      "execution_count": null,
      "metadata": {
        "colab": {
          "base_uri": "https://localhost:8080/"
        },
        "id": "OqlAt4l8DysZ",
        "outputId": "d2cecb76-82f8-4072-bbef-5cba0939ac23"
      },
      "outputs": [
        {
          "name": "stdout",
          "output_type": "stream",
          "text": [
            "[3, 1, 2]\n"
          ]
        }
      ],
      "source": [
        "# Create a list:\n",
        "x = [3, 1, 2]\n",
        "# print whole list.\n",
        "print(x)"
      ]
    },
    {
      "cell_type": "code",
      "execution_count": null,
      "metadata": {
        "id": "y7Z4HdqPFCBs"
      },
      "outputs": [],
      "source": [
        "# Print first and list element of the list x.\n",
        "# your code here:\n"
      ]
    },
    {
      "cell_type": "code",
      "execution_count": null,
      "metadata": {
        "colab": {
          "base_uri": "https://localhost:8080/"
        },
        "id": "qjSf5cLUFIY9",
        "outputId": "bb7f50ce-df76-455c-a03a-d62aaa1e3139"
      },
      "outputs": [
        {
          "name": "stdout",
          "output_type": "stream",
          "text": [
            "[3, 1, 2, 'foo']\n"
          ]
        }
      ],
      "source": [
        "# List can take elements of different types, add \"hello\" in list x.\n",
        "# your code here:\n",
        "x.append('foo')\n",
        "print(x)"
      ]
    },
    {
      "cell_type": "markdown",
      "metadata": {
        "id": "-mYdi1ZGF1po"
      },
      "source": [
        "Questions:\n",
        "\n",
        "Write a program that add two list indexwise:\n",
        "\n",
        "Inputs: \n",
        "\n",
        "list1 = [\"T\", \"i\" , \"a\" , \"appl\"]\n",
        "\n",
        "list2 = [\"his\",  \"s\",  \"n\" , \"e\"]\n",
        "\n",
        "Output:\n",
        "\n",
        "newlist = [\"This\" , \"is\" , \"an\", \"apple\"]"
      ]
    },
    {
      "cell_type": "code",
      "execution_count": 7,
      "metadata": {
        "id": "Yc50xfJWFTT7"
      },
      "outputs": [
        {
          "name": "stdout",
          "output_type": "stream",
          "text": [
            "['This', 'is', 'an', 'apple']\n"
          ]
        }
      ],
      "source": [
        "# your solution here\n",
        "list1 = [\"T\", \"i\" , \"a\" , \"appl\"]\n",
        "list2 = [\"his\",  \"s\",  \"n\" , \"e\"]\n",
        "\n",
        "newlist=[]\n",
        "\n",
        "for i in range(0,len(list1)):\n",
        "    newlist.append(list1[i]+list2[i])\n",
        "\n",
        "print(newlist)\n",
        "\n"
      ]
    },
    {
      "cell_type": "markdown",
      "metadata": {
        "id": "AtNKEsK-GF4m"
      },
      "source": [
        "Write a program to remove a value 3 with 6 in the following lists.\n",
        "\n",
        "Input:\n",
        "\n",
        "list2 = [5,3, 7, 8]\n",
        "\n",
        "Output:\n",
        "\n",
        "newlist = [5, 6, 7, 8]"
      ]
    },
    {
      "cell_type": "code",
      "execution_count": 8,
      "metadata": {
        "id": "aYqUaWiqGLM9"
      },
      "outputs": [
        {
          "name": "stdout",
          "output_type": "stream",
          "text": [
            "[5, 6, 7, 8]\n"
          ]
        }
      ],
      "source": [
        "# your solutions here\n",
        "list2 = [5,3,7,8]\n",
        "list2[1]=6\n",
        "print(list2)"
      ]
    },
    {
      "cell_type": "markdown",
      "metadata": {
        "id": "_cqHofmSGRrK"
      },
      "source": [
        "###List Slicing:\n",
        "Questions:\n",
        "\n",
        "1) Given the list nums.\n",
        "  *   Slice from index 2 - 4.\n",
        "  *   Slice from index 2 - end.\n",
        "  *   Slice from start to index 2.\n",
        "  *   Assign a new sublist to a slice.\n",
        "\n",
        "\n",
        "\n",
        "\n",
        "  \n",
        "    "
      ]
    },
    {
      "cell_type": "code",
      "execution_count": 9,
      "metadata": {
        "id": "mjaar3ofGNTO"
      },
      "outputs": [
        {
          "name": "stdout",
          "output_type": "stream",
          "text": [
            "[2, 3, 2, 3, 4, 0, 1]\n"
          ]
        }
      ],
      "source": [
        "nums = list(range(5))\n",
        "# your solutions here:\n",
        "num1 = nums[2:4]\n",
        "num2 = nums[2:]\n",
        "num3 = nums[:2]\n",
        "\n",
        "num = num1 + num2 +num3 \n",
        "\n",
        "print(num)"
      ]
    },
    {
      "cell_type": "markdown",
      "metadata": {
        "id": "rgjUofVMICk5"
      },
      "source": [
        "### Dicitionary:"
      ]
    },
    {
      "cell_type": "markdown",
      "metadata": {
        "id": "CUjzB4LaIFmY"
      },
      "source": [
        "Questions:\n",
        "\n",
        "1) Create at lesat two  dicitionary of your choice, with minimum three keys and three values.\n",
        "\n",
        "2) Concatenate the above created dicitionary into one dicitionary.\n",
        "\n",
        "3) Write a program to check whether a key is present in dictionary or not.\n"
      ]
    },
    {
      "cell_type": "code",
      "execution_count": 12,
      "metadata": {
        "id": "C1y3QZYdH_Ds"
      },
      "outputs": [
        {
          "name": "stdout",
          "output_type": "stream",
          "text": [
            "{'krishu': 'dhakal', 'prabin': 'kandel', 'jeny': 'gurung', 'anna': 'updhaya', 'jenisha': 'rai', 'siona': 'magar'}\n"
          ]
        },
        {
          "data": {
            "text/plain": [
              "True"
            ]
          },
          "execution_count": 12,
          "metadata": {},
          "output_type": "execute_result"
        }
      ],
      "source": [
        "# your solutions here:\n",
        "dictionary1 ={\n",
        "    \"krishu\":\"dhakal\",\n",
        "    \"prabin\":\"kandel\",\n",
        "    \"jeny\": \"gurung\",\n",
        "}\n",
        "dictionary2 ={\n",
        "    \"anna\":\"updhaya\",\n",
        "    \"jenisha\":\"rai\",\n",
        "    \"siona\": \"magar\",\n",
        "}\n",
        "\n",
        "dictionary1. update(dictionary2)\n",
        "print(dictionary1)\n",
        "\n",
        "def check(key, dictionary):\n",
        " for key in dictionary.keys():\n",
        "    return True\n",
        " else:\n",
        "    return False\n",
        "\n",
        "check(\"prabin\", dictionary1)\n"
      ]
    },
    {
      "cell_type": "markdown",
      "metadata": {
        "id": "L4GxF1ytIUqo"
      },
      "source": [
        "### Functions and Conditionals\n"
      ]
    },
    {
      "cell_type": "markdown",
      "metadata": {
        "id": "zrW_f18jJScN"
      },
      "source": [
        "Questions:\n",
        "\n",
        "1) Create a function, which checks a number and return \"positive\" if number is more than 3 else return \"negative\"\n",
        "\n",
        "2) Creata a function to return square of input.\n"
      ]
    },
    {
      "cell_type": "code",
      "execution_count": 14,
      "metadata": {
        "id": "zkrIcrhrJLIM"
      },
      "outputs": [],
      "source": [
        "def sign(x):\n",
        "  \"\"\"\n",
        "  x: is a input to be checked.\n",
        "  \"\"\"\n",
        "  # your solutions here:\n",
        "  if(x>3):\n",
        "    return \"positve\"\n",
        "  else:\n",
        "      return \"negative\""
      ]
    },
    {
      "cell_type": "code",
      "execution_count": 15,
      "metadata": {
        "colab": {
          "base_uri": "https://localhost:8080/"
        },
        "id": "sQTx_pjDKBAc",
        "outputId": "99a58b1c-4856-40b5-cb8a-6326b7c64ab9"
      },
      "outputs": [
        {
          "name": "stdout",
          "output_type": "stream",
          "text": [
            "negative\n",
            "negative\n",
            "positve\n"
          ]
        }
      ],
      "source": [
        "# Check the solutions\n",
        "for x in [-1, 0, 4]:\n",
        "    print(sign(x))"
      ]
    },
    {
      "cell_type": "code",
      "execution_count": 17,
      "metadata": {
        "id": "8VWuznDBJkqc"
      },
      "outputs": [
        {
          "name": "stdout",
          "output_type": "stream",
          "text": [
            "4\n"
          ]
        }
      ],
      "source": [
        "# your solutions for Question 2.\n",
        "def square(x):\n",
        "    return x**2\n",
        "\n",
        "print(square(2))"
      ]
    }
  ],
  "metadata": {
    "colab": {
      "provenance": []
    },
    "kernelspec": {
      "display_name": "Python 3.9.12 ('base')",
      "language": "python",
      "name": "python3"
    },
    "language_info": {
      "codemirror_mode": {
        "name": "ipython",
        "version": 3
      },
      "file_extension": ".py",
      "mimetype": "text/x-python",
      "name": "python",
      "nbconvert_exporter": "python",
      "pygments_lexer": "ipython3",
      "version": "3.9.12"
    },
    "vscode": {
      "interpreter": {
        "hash": "b1e6b76b6e736d29445d5c5f779c1dafb0f59893c5766b7198bc0a87a8e7acf4"
      }
    }
  },
  "nbformat": 4,
  "nbformat_minor": 0
}
