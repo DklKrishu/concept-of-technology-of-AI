{
  "nbformat": 4,
  "nbformat_minor": 0,
  "metadata": {
    "colab": {
      "provenance": []
    },
    "kernelspec": {
      "name": "python3",
      "display_name": "Python 3"
    },
    "language_info": {
      "name": "python"
    }
  },
  "cells": [
    {
      "cell_type": "markdown",
      "source": [
        "# Week-2-Workshops\n",
        "## Instructions and Requirements:\n",
        "This workshops is | divided into five different sections:\n",
        "  *    Connect drive, or upload your datasets in the colab\n",
        "  * Open and Load the datasets into google colab Read and display the datasets using pandas Questions to answer\n",
        "  * Data transfomation(Basic)\n",
        "  * Basic Descriptive Statistical Anlysis(Measurement of Central Tendency) and(Measurement of Dispersion)\n",
        "  * Basic Data Visualization using different plots techniques\n",
        "  * Data Analysis and Visualization\n",
        "  ## Requirements:\n",
        "    *   Notebook Environment(Jupyter or Google Colab)\n",
        "\n",
        "*   Author: Siman Giri\n",
        "*   Co-Author: Anmol Adhikari"
      ],
      "metadata": {
        "id": "T_E5iI0vNNAj"
      }
    },
    {
      "cell_type": "markdown",
      "source": [
        "# Section 0\n",
        "Connect drive, or upload datasets in the colab\n",
        "1. Necessary imports"
      ],
      "metadata": {
        "id": "jglrHQPM615y"
      }
    },
    {
      "cell_type": "code",
      "source": [
        "from google.colab import drive\n",
        "drive.mount('/content/drive')"
      ],
      "metadata": {
        "colab": {
          "base_uri": "https://localhost:8080/"
        },
        "id": "J0AM-RuRrde8",
        "outputId": "35758941-077f-403f-d3ed-a0806f72d68f"
      },
      "execution_count": null,
      "outputs": [
        {
          "output_type": "stream",
          "name": "stdout",
          "text": [
            "Mounted at /content/drive\n"
          ]
        }
      ]
    },
    {
      "cell_type": "code",
      "execution_count": null,
      "metadata": {
        "id": "FeREA5xr_nfm"
      },
      "outputs": [],
      "source": [
        "path_datasets = \"/content/drive/MyDrive/5CS037_CTAI_2022/Weekly Materials/Week - 2/Workshop/bank.csv\""
      ]
    },
    {
      "cell_type": "code",
      "source": [
        "#Necessary imports:\n",
        "import numpy as np\n",
        "import matplotlib.pyplot as plt\n",
        "import seaborn as sns\n",
        "import pandas as pd"
      ],
      "metadata": {
        "id": "74jU5N0SD8PM"
      },
      "execution_count": null,
      "outputs": []
    },
    {
      "cell_type": "markdown",
      "source": [
        "## Section 1\n",
        "Open and Load the datasets into google colab\n",
        "Read and display the dataets using pandas\n",
        "Questions to answer:\n"
      ],
      "metadata": {
        "id": "2_3yizhCsL3d"
      }
    },
    {
      "cell_type": "markdown",
      "source": [
        "1. Load the provided dataset in google collab and import data in pandas dataframe."
      ],
      "metadata": {
        "id": "qEZ1s7lOuuT9"
      }
    },
    {
      "cell_type": "code",
      "source": [],
      "metadata": {
        "id": "d9Xl3pi_sGg_"
      },
      "execution_count": null,
      "outputs": []
    },
    {
      "cell_type": "markdown",
      "source": [
        "2. Show first five rows of the dataframe."
      ],
      "metadata": {
        "id": "0aLBr08MvLsi"
      }
    },
    {
      "cell_type": "code",
      "source": [],
      "metadata": {
        "id": "3eQQyFjCs-vD"
      },
      "execution_count": null,
      "outputs": []
    },
    {
      "cell_type": "markdown",
      "source": [
        "3. Show Last five rows of the dataframe."
      ],
      "metadata": {
        "id": "ccWV5u8XvzQB"
      }
    },
    {
      "cell_type": "code",
      "source": [],
      "metadata": {
        "id": "OJCQLQGZvqM6"
      },
      "execution_count": null,
      "outputs": []
    },
    {
      "cell_type": "markdown",
      "source": [
        "4. Check info of the columns in the datasets."
      ],
      "metadata": {
        "id": "QmB2hyiUv5M5"
      }
    },
    {
      "cell_type": "code",
      "source": [],
      "metadata": {
        "id": "Rzx9OFoqwzgB"
      },
      "execution_count": null,
      "outputs": []
    },
    {
      "cell_type": "markdown",
      "source": [
        "5. Check for null and unique values in the columns having object data type."
      ],
      "metadata": {
        "id": "280KntYiwTI5"
      }
    },
    {
      "cell_type": "code",
      "source": [],
      "metadata": {
        "id": "NkE1aHmstQjp"
      },
      "execution_count": null,
      "outputs": []
    },
    {
      "cell_type": "markdown",
      "source": [
        "# Section:2\n",
        "Data transfomation\n",
        "1. Convert housing, default, loan and the target variable y into binary; yes - 1, no - 0\n",
        "2. (perform this task with all the columns having datatype object)\n",
        "3. create a new column duration_minutes whose values should be based on the values present in the duration column transformed from seconds to minutes\n",
        "\n",
        "\n"
      ],
      "metadata": {
        "id": "iGJF9bo1uREe"
      }
    },
    {
      "cell_type": "code",
      "source": [],
      "metadata": {
        "id": "hGpFGMzIwu3J"
      },
      "execution_count": null,
      "outputs": []
    },
    {
      "cell_type": "markdown",
      "source": [
        "# Section 3\n",
        "Basic Descriptive Statistical Anlysis\n",
        "1. Carryout initial Data Analysis Sum, mean, mode, median, max, min\n"
      ],
      "metadata": {
        "id": "FOTHsIDMwo1k"
      }
    },
    {
      "cell_type": "code",
      "source": [],
      "metadata": {
        "id": "J9Ay9tZ3xSSN"
      },
      "execution_count": null,
      "outputs": []
    },
    {
      "cell_type": "markdown",
      "source": [
        "# Section 4\n",
        "Basic Datavisualization\n",
        "1. Plot histograms of age\n",
        "2. plot in bar showing number of subscriptions according to level of education\n",
        "3. plot in bar showing number of subscriptions according to job  \n",
        "1. Plot bar chart for age,balance\n",
        "2. Plot histograms of balance\n",
        "\n"
      ],
      "metadata": {
        "id": "vPkVl4iWxaqM"
      }
    },
    {
      "cell_type": "code",
      "source": [],
      "metadata": {
        "id": "-WGtDNuzxU6O"
      },
      "execution_count": null,
      "outputs": []
    },
    {
      "cell_type": "markdown",
      "source": [
        "# Section 5\n",
        "Data Visualization and Analysis\n",
        "1. Check number of acceptance and rejection in target variable y and plot in pie chart\n",
        "2. Check Total number of clients who subscribed according to the marital status\n",
        "3. Check Total number of clients on the basis of education\n",
        "4. Check the general level of education of people based on the provided data set\n",
        "5. Calculate the ratio who said yes according to their education \n"
      ],
      "metadata": {
        "id": "xIICZH_QyzW8"
      }
    },
    {
      "cell_type": "code",
      "source": [],
      "metadata": {
        "id": "VlepVXfTxYfW"
      },
      "execution_count": null,
      "outputs": []
    },
    {
      "cell_type": "markdown",
      "source": [
        "# Further Practice Tasks\n",
        "1. Check how many categorical samples are there in column 'Target'\n",
        "2. Visualise count plot\n",
        "# Split DataSet into 2 parts\n",
        "1. Numeric type and Categorical type\n",
        "2. Check Age Class Distribution and also visualize\n",
        "3. Check Marital Feature Distribution and also visualize\n",
        "4. Relation between top 5 client jobs and their ages and also visualize\n",
        "5. Bar plot for all categorical variables in the dataset"
      ],
      "metadata": {
        "id": "w553jCJ_Qpdk"
      }
    },
    {
      "cell_type": "code",
      "source": [
        "|"
      ],
      "metadata": {
        "id": "RoMah8aO1Inq"
      },
      "execution_count": null,
      "outputs": []
    }
  ]
}